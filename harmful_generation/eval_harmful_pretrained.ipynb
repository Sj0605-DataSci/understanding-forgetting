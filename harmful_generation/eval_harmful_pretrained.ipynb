{
 "cells": [
  {
   "cell_type": "code",
   "execution_count": null,
   "metadata": {},
   "outputs": [],
   "source": [
    "import openai\n",
    "import random\n",
    "from tqdm import tqdm\n",
    "from pprint import pprint\n",
    "import pandas as pd\n",
    "import time as time\n",
    "import pickle\n",
    "openai.api_key = \"\""
   ]
  },
  {
   "cell_type": "code",
   "execution_count": null,
   "metadata": {},
   "outputs": [],
   "source": [
    "def extract(lang, num_samples):\n",
    "    file_path = f'harmful_instructions/harmful_instructions_{lang}.txt'\n",
    "    lines = []\n",
    "    with open(file_path, 'r') as file:\n",
    "        for line in file:\n",
    "            lines.append(line.strip() + '\\n\\n')\n",
    "\n",
    "    random.seed(10)\n",
    "    random.shuffle(lines)\n",
    "    return lines[:num_samples]"
   ]
  },
  {
   "cell_type": "code",
   "execution_count": null,
   "metadata": {},
   "outputs": [],
   "source": [
    "LANGS = ['en', 'ml', 'ja', 'hu', 'sw']\n",
    "NUM_SAMPLES = 100"
   ]
  },
  {
   "cell_type": "code",
   "execution_count": null,
   "metadata": {},
   "outputs": [],
   "source": [
    "files = {lang : extract(lang, NUM_SAMPLES) for lang in LANGS}"
   ]
  },
  {
   "cell_type": "code",
   "execution_count": null,
   "metadata": {},
   "outputs": [],
   "source": [
    "BATCH_SIZE = 20\n",
    "outputs = {}\n",
    "for lang in LANGS:\n",
    "    outputs[lang] = []\n",
    "    for i in tqdm(range(0, len(files[lang]), BATCH_SIZE)):\n",
    "        batch_instructions = files[lang][i:i + BATCH_SIZE]\n",
    "        responses = openai.Completion.create(\n",
    "            model = \"text-davinci-003\",\n",
    "            temperature = 0.0,\n",
    "            max_tokens = 512,\n",
    "            prompt = batch_instructions\n",
    "        )\n",
    "\n",
    "        for response in responses.choices:\n",
    "            output_text = response.text\n",
    "            outputs[lang].append(output_text)"
   ]
  },
  {
   "cell_type": "code",
   "execution_count": null,
   "metadata": {},
   "outputs": [],
   "source": [
    "from googletrans import Translator\n",
    "translator = Translator()\n",
    "\n",
    "def translate(input_text, src, dest):\n",
    "    max_retries = 5\n",
    "    retry_count = 0\n",
    "    translated_text = None\n",
    "\n",
    "    while retry_count < max_retries:\n",
    "        try:\n",
    "            translated_text = translator.translate(input_text, src=src, dest=dest).text\n",
    "            break\n",
    "        except Exception as e:\n",
    "            print(f\"Translation attempt {retry_count + 1} failed with error: {e}\")\n",
    "            retry_count += 1\n",
    "            time.sleep(3)\n",
    "\n",
    "    if translated_text is not None:\n",
    "        return translated_text\n",
    "\n",
    "    else:\n",
    "        print('failed unfortunately')\n",
    "        assert False"
   ]
  },
  {
   "cell_type": "code",
   "execution_count": null,
   "metadata": {},
   "outputs": [],
   "source": [
    "outputs_en = {}\n",
    "for lang in LANGS:\n",
    "    if lang == 'en':\n",
    "        outputs_en['en'] = outputs['en']\n",
    "    else:\n",
    "        outputs_en[lang] = []\n",
    "        for output in tqdm(outputs[lang]):\n",
    "            outputs_en[lang].append(translate(output, lang, 'en'))"
   ]
  },
  {
   "cell_type": "code",
   "execution_count": null,
   "metadata": {},
   "outputs": [],
   "source": [
    "for lang in LANGS:\n",
    "    my_list = outputs_en[lang]\n",
    "    file_path = f\"harmful_dumps/temp_{lang}.txt\"\n",
    "\n",
    "    with open(file_path, 'w') as file:\n",
    "        for string in my_list:\n",
    "            file.write(repr(string) + '\\n')"
   ]
  },
  {
   "cell_type": "code",
   "execution_count": null,
   "metadata": {},
   "outputs": [],
   "source": [
    "with open('harmful_dumps/text-davinci-003.pkl', 'wb') as file:\n",
    "    pickle.dump([files, outputs, outputs_en], file)"
   ]
  },
  {
   "cell_type": "code",
   "execution_count": null,
   "metadata": {},
   "outputs": [],
   "source": [
    "with open('harmful_dumps/text-davinci-003.pkl', 'rb') as file:\n",
    "    unpickled = pickle.load(file)"
   ]
  }
 ],
 "metadata": {
  "kernelspec": {
   "display_name": "Python 3",
   "language": "python",
   "name": "python3"
  },
  "language_info": {
   "codemirror_mode": {
    "name": "ipython",
    "version": 3
   },
   "file_extension": ".py",
   "mimetype": "text/x-python",
   "name": "python",
   "nbconvert_exporter": "python",
   "pygments_lexer": "ipython3",
   "version": "3.8.13"
  },
  "orig_nbformat": 4
 },
 "nbformat": 4,
 "nbformat_minor": 2
}
